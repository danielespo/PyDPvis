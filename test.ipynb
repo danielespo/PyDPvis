{
 "cells": [
  {
   "cell_type": "code",
   "execution_count": 4,
   "metadata": {},
   "outputs": [
    {
     "ename": "FileNotFoundError",
     "evalue": "[Errno 2] No such file or directory: 'path_to_dimacs_cnf_file.cnf'",
     "output_type": "error",
     "traceback": [
      "\u001b[1;31m---------------------------------------------------------------------------\u001b[0m",
      "\u001b[1;31mFileNotFoundError\u001b[0m                         Traceback (most recent call last)",
      "Cell \u001b[1;32mIn[4], line 6\u001b[0m\n\u001b[0;32m      2\u001b[0m \u001b[38;5;28;01mimport\u001b[39;00m \u001b[38;5;21;01mrdimacs\u001b[39;00m \u001b[38;5;28;01mas\u001b[39;00m \u001b[38;5;21;01mrd\u001b[39;00m\n\u001b[0;32m      5\u001b[0m filename \u001b[38;5;241m=\u001b[39m \u001b[38;5;124m'\u001b[39m\u001b[38;5;124mpath_to_dimacs_cnf_file.cnf\u001b[39m\u001b[38;5;124m'\u001b[39m\n\u001b[1;32m----> 6\u001b[0m num_vars, clauses \u001b[38;5;241m=\u001b[39m rd\u001b[38;5;241m.\u001b[39mread_dimacs(filename)\n\u001b[0;32m      7\u001b[0m rd\u001b[38;5;241m.\u001b[39mplot_graph(rd\u001b[38;5;241m.\u001b[39mgenerate_interaction_graph(num_vars, clauses))\n",
      "File \u001b[1;32mc:\\Users\\dalbe\\OneDrive\\Documents\\Papers Writing 2024\\PyDPVis\\PyDPvis\\rdimacs.py:5\u001b[0m, in \u001b[0;36mread_dimacs\u001b[1;34m(filename)\u001b[0m\n\u001b[0;32m      3\u001b[0m \u001b[38;5;28;01mdef\u001b[39;00m \u001b[38;5;21mread_dimacs\u001b[39m(filename):\n\u001b[0;32m      4\u001b[0m     clauses \u001b[38;5;241m=\u001b[39m []\n\u001b[1;32m----> 5\u001b[0m     \u001b[38;5;28;01mwith\u001b[39;00m \u001b[38;5;28mopen\u001b[39m(filename, \u001b[38;5;124m'\u001b[39m\u001b[38;5;124mr\u001b[39m\u001b[38;5;124m'\u001b[39m) \u001b[38;5;28;01mas\u001b[39;00m file:\n\u001b[0;32m      6\u001b[0m         \u001b[38;5;28;01mfor\u001b[39;00m line \u001b[38;5;129;01min\u001b[39;00m file:\n\u001b[0;32m      7\u001b[0m             \u001b[38;5;28;01mif\u001b[39;00m line\u001b[38;5;241m.\u001b[39mstartswith(\u001b[38;5;124m'\u001b[39m\u001b[38;5;124mp\u001b[39m\u001b[38;5;124m'\u001b[39m):\n",
      "\u001b[1;31mFileNotFoundError\u001b[0m: [Errno 2] No such file or directory: 'path_to_dimacs_cnf_file.cnf'"
     ]
    }
   ],
   "source": [
    "import rdimacs as rd\n",
    "\n",
    "filename = 'path_to_dimacs_cnf_file.cnf'\n",
    "num_vars, clauses = rd.read_dimacs(filename)"
   ]
  },
  {
   "cell_type": "code",
   "execution_count": null,
   "metadata": {},
   "outputs": [],
   "source": [
    "def animate_dpll(num_vars, clauses):\n",
    "    fig, ax = plt.subplots()\n",
    "    assignment = []\n",
    "\n",
    "    def update(num):\n",
    "        ax.clear()\n",
    "        if num < len(assignment):\n",
    "            current_assignment = assignment[:num]\n",
    "        else:\n",
    "            result = dpll(clauses, assignment)\n",
    "            if result is False:\n",
    "                plt.title('Unsatisfiable')\n",
    "                return\n",
    "            assignment.extend(result)\n",
    "            current_assignment = assignment\n",
    "        \n",
    "        G = generate_interaction_graph(num_vars, clauses)\n",
    "        pos = nx.spring_layout(G)\n",
    "        nx.draw(G, pos, with_labels=True, node_color='lightblue', edge_color='gray', node_size=500, font_size=10)\n",
    "        plt.title(f'Step {num + 1}')\n",
    "    \n",
    "    ani = FuncAnimation(fig, update, frames=range(len(clauses)), repeat=False)\n",
    "    plt.show()"
   ]
  }
 ],
 "metadata": {
  "kernelspec": {
   "display_name": "snn",
   "language": "python",
   "name": "python3"
  },
  "language_info": {
   "codemirror_mode": {
    "name": "ipython",
    "version": 3
   },
   "file_extension": ".py",
   "mimetype": "text/x-python",
   "name": "python",
   "nbconvert_exporter": "python",
   "pygments_lexer": "ipython3",
   "version": "3.12.2"
  }
 },
 "nbformat": 4,
 "nbformat_minor": 2
}
